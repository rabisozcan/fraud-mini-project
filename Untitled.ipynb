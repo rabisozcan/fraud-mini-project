{
 "cells": [
  {
   "cell_type": "code",
   "execution_count": 13,
   "id": "a5111020-7d78-4e12-a8cf-bddf6c6e9a70",
   "metadata": {},
   "outputs": [
    {
     "name": "stdout",
     "output_type": "stream",
     "text": [
      "   months_as_customer  age  policy_number policy_bind_date policy_state  \\\n",
      "0                 328   48         521585       2014-10-17           OH   \n",
      "1                 228   42         342868       2006-06-27           IN   \n",
      "2                 134   29         687698       2000-09-06           OH   \n",
      "3                 256   41         227811       1990-05-25           IL   \n",
      "4                 228   44         367455       2014-06-06           IL   \n",
      "\n",
      "  policy_csl  policy_deductable  policy_annual_premium  umbrella_limit  \\\n",
      "0    250/500               1000                1406.91               0   \n",
      "1    250/500               2000                1197.22         5000000   \n",
      "2    100/300               2000                1413.14         5000000   \n",
      "3    250/500               2000                1415.74         6000000   \n",
      "4   500/1000               1000                1583.91         6000000   \n",
      "\n",
      "   insured_zip  ... witnesses police_report_available total_claim_amount  \\\n",
      "0       466132  ...         2                     YES              71610   \n",
      "1       468176  ...         0                       ?               5070   \n",
      "2       430632  ...         3                      NO              34650   \n",
      "3       608117  ...         2                      NO              63400   \n",
      "4       610706  ...         1                      NO               6500   \n",
      "\n",
      "  injury_claim property_claim  vehicle_claim  auto_make auto_model auto_year  \\\n",
      "0         6510          13020          52080       Saab        92x      2004   \n",
      "1          780            780           3510   Mercedes       E400      2007   \n",
      "2         7700           3850          23100      Dodge        RAM      2007   \n",
      "3         6340           6340          50720  Chevrolet      Tahoe      2014   \n",
      "4         1300            650           4550     Accura        RSX      2009   \n",
      "\n",
      "  fraud_reported  \n",
      "0              Y  \n",
      "1              Y  \n",
      "2              N  \n",
      "3              Y  \n",
      "4              N  \n",
      "\n",
      "[5 rows x 39 columns]\n"
     ]
    }
   ],
   "source": [
    "\n",
    "import pandas as pd\n",
    "import matplotlib.pyplot as plt\n",
    "import seaborn as sns\n",
    "import os\n",
    "\n",
    "if not os.path.exists('outputs'):\n",
    "    os.makedirs('outputs')\n",
    "\n",
    "df = pd.read_excel('data/worksheet.xlsx')\n",
    "\n",
    "# İlk 5 satırı görüntüleme\n",
    "print(df.head())\n"
   ]
  },
  {
   "cell_type": "code",
   "execution_count": 7,
   "id": "745527da-50c3-4989-96ed-f207659e4263",
   "metadata": {},
   "outputs": [
    {
     "data": {
      "text/plain": [
       "months_as_customer              0\n",
       "age                             0\n",
       "policy_number                   0\n",
       "policy_bind_date                0\n",
       "policy_state                    0\n",
       "policy_csl                      0\n",
       "policy_deductable               0\n",
       "policy_annual_premium           0\n",
       "umbrella_limit                  0\n",
       "insured_zip                     0\n",
       "insured_sex                     0\n",
       "insured_education_level         0\n",
       "insured_occupation              0\n",
       "insured_hobbies                 0\n",
       "insured_relationship            0\n",
       "capital-gains                   0\n",
       "capital-loss                    0\n",
       "incident_date                   0\n",
       "incident_type                   0\n",
       "collision_type                  0\n",
       "incident_severity               0\n",
       "authorities_contacted          91\n",
       "incident_state                  0\n",
       "incident_city                   0\n",
       "incident_location               0\n",
       "incident_hour_of_the_day        0\n",
       "number_of_vehicles_involved     0\n",
       "property_damage                 0\n",
       "bodily_injuries                 0\n",
       "witnesses                       0\n",
       "police_report_available         0\n",
       "total_claim_amount              0\n",
       "injury_claim                    0\n",
       "property_claim                  0\n",
       "vehicle_claim                   0\n",
       "auto_make                       0\n",
       "auto_model                      0\n",
       "auto_year                       0\n",
       "fraud_reported                  0\n",
       "dtype: int64"
      ]
     },
     "execution_count": 7,
     "metadata": {},
     "output_type": "execute_result"
    }
   ],
   "source": [
    "df.isnull().sum()"
   ]
  },
  {
   "cell_type": "code",
   "execution_count": 14,
   "id": "b7701610-e0eb-47f0-ae17-b4d36f740331",
   "metadata": {},
   "outputs": [],
   "source": [
    "\n",
    "plt.figure(figsize=(8,6))\n",
    "sns.histplot(df['age'], bins=20, color='skyblue')\n",
    "plt.title('Age Distribution')\n",
    "plt.xlabel('Age')\n",
    "plt.ylabel('Count')\n",
    "\n",
    "# Grafigi outputs klasörüne kaydettim\n",
    "plt.savefig('outputs/age_distribution.png', dpi=300)\n",
    "plt.close()  "
   ]
  },
  {
   "cell_type": "code",
   "execution_count": 15,
   "id": "408e4fff-1bca-4ceb-958f-c2110ce42af0",
   "metadata": {},
   "outputs": [],
   "source": [
    "# Total Claim Amount histogramım\n",
    "plt.figure(figsize=(8,6))\n",
    "sns.histplot(df['total_claim_amount'], bins=30, color='salmon')\n",
    "plt.title('Total Claim Amount Distribution')\n",
    "plt.xlabel('Total Claim Amount')\n",
    "plt.ylabel('Count')\n",
    "\n",
    "\n",
    "plt.savefig('outputs/total_claim_amount_distribution.png', dpi=300)\n",
    "plt.close()"
   ]
  },
  {
   "cell_type": "code",
   "execution_count": 10,
   "id": "2a4f8d08-9fd6-40be-8ac9-cb7a27c73cb7",
   "metadata": {},
   "outputs": [
    {
     "data": {
      "image/png": "[encoded data removed]",
      "text/plain": [
       "<Figure size 640x480 with 1 Axes>"
      ]
     },
     "metadata": {},
     "output_type": "display_data"
    }
   ],
   "source": [
    "sns.countplot(x='fraud_reported', data=df)\n",
    "plt.show()\n"
   ]
  },
  {
   "cell_type": "code",
   "execution_count": 16,
   "id": "6c793263-55b1-46b0-86be-d7ea6b96f741",
   "metadata": {},
   "outputs": [
    {
     "name": "stderr",
     "output_type": "stream",
     "text": [
      "/var/folders/gy/p8mltsb52gxbn8gsnj3_fktc0000gn/T/ipykernel_71804/2684118036.py:2: FutureWarning: \n",
      "\n",
      "Passing `palette` without assigning `hue` is deprecated and will be removed in v0.14.0. Assign the `x` variable to `hue` and set `legend=False` for the same effect.\n",
      "\n",
      "  sns.countplot(x='policy_state', data=df, palette='viridis')\n"
     ]
    }
   ],
   "source": [
    "plt.figure(figsize=(10,6))\n",
    "sns.countplot(x='policy_state', data=df, palette='viridis')\n",
    "plt.title('Policies per State')\n",
    "plt.xlabel('Policy State')\n",
    "plt.ylabel('Number of Policies')\n",
    "plt.xticks(rotation=45)\n",
    "\n",
    "plt.savefig('outputs/policies_per_state.png', dpi=300)\n",
    "plt.close()"
   ]
  },
  {
   "cell_type": "code",
   "execution_count": 12,
   "id": "760c1f9c-19e6-47c7-bc5f-6e37fd7d8b0c",
   "metadata": {},
   "outputs": [
    {
     "data": {
      "image/png": "[encoded data removed]",
      "text/plain": [
       "<Figure size 640x480 with 1 Axes>"
      ]
     },
     "metadata": {},
     "output_type": "display_data"
    }
   ],
   "source": [
    "sns.boxplot(x='fraud_reported', y='total_claim_amount', data=df)\n",
    "plt.title('Total Claim Amount vs Fraud Reported')\n",
    "plt.show()"
   ]
  },
  {
   "cell_type": "code",
   "execution_count": 17,
   "id": "5bc2659b-c403-46a6-92f1-81230d06d4dd",
   "metadata": {},
   "outputs": [],
   "source": [
    "plt.figure(figsize=(6,4))\n",
    "sns.countplot(x='fraud_reported', data=df)\n",
    "plt.title('Fraud Reported Counts')\n",
    "plt.xlabel('Fraud Reported')\n",
    "plt.ylabel('Count')\n",
    "plt.savefig('outputs/fraud_reported_counts.png', dpi=300)\n",
    "plt.close()"
   ]
  },
  {
   "cell_type": "code",
   "execution_count": 18,
   "id": "04698789-df5e-4d87-b46c-59cf4393767a",
   "metadata": {},
   "outputs": [],
   "source": [
    "plt.figure(figsize=(6,4))\n",
    "sns.countplot(x='fraud_reported', data=df)\n",
    "plt.title('Fraud Reported Counts')\n",
    "plt.xlabel('Fraud Reported')\n",
    "plt.ylabel('Count')\n",
    "plt.savefig('outputs/fraud_reported_counts.png', dpi=300)\n",
    "plt.close()"
   ]
  },
  {
   "cell_type": "code",
   "execution_count": 19,
   "id": "8de9e447-adbf-4d03-a90c-4258455f32a1",
   "metadata": {},
   "outputs": [],
   "source": [
    "plt.figure(figsize=(8,5))\n",
    "sns.countplot(x='incident_severity', data=df)\n",
    "plt.title('Incident Severity Distribution')\n",
    "plt.xlabel('Incident Severity')\n",
    "plt.ylabel('Count')\n",
    "plt.savefig('outputs/incident_severity_distribution.png', dpi=300)\n",
    "plt.close()"
   ]
  },
  {
   "cell_type": "code",
   "execution_count": null,
   "id": "243c3025-1d82-45a0-8071-9f0c2b474879",
   "metadata": {},
   "outputs": [],
   "source": []
  }
 ],
 "metadata": {
  "kernelspec": {
   "display_name": "Python 3 (ipykernel)",
   "language": "python",
   "name": "python3"
  },
  "language_info": {
   "codemirror_mode": {
    "name": "ipython",
    "version": 3
   },
   "file_extension": ".py",
   "mimetype": "text/x-python",
   "name": "python",
   "nbconvert_exporter": "python",
   "pygments_lexer": "ipython3",
   "version": "3.13.7"
  }
 },
 "nbformat": 4,
 "nbformat_minor": 5
}
